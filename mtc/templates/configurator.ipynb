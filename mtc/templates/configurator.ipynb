{
 "cells": [
  {
   "cell_type": "code",
   "execution_count": 1,
   "metadata": {
    "tags": []
   },
   "outputs": [
    {
     "data": {
      "text/html": [
       "<style>\n",
       ".jp-Cell {\n",
       "    margin:unset;\n",
       "    padding: unset;\n",
       "}\n",
       ".jp-Cell:not(.jp-mod-noOutputs) .jp-Cell-outputWrapper{\n",
       "    margin:unset;\n",
       "}\n",
       ".jp-Notebook {\n",
       "    margin:unset;\n",
       "    padding: unset;\n",
       "}\n",
       ".p-Widget {\n",
       "    width: 100%;\n",
       "}\n",
       "</style>"
      ],
      "text/plain": [
       "<IPython.core.display.HTML object>"
      ]
     },
     "metadata": {},
     "output_type": "display_data"
    },
    {
     "data": {
      "application/vnd.jupyter.widget-view+json": {
       "model_id": "14edf49be2ce4dde817e1f161bde591f",
       "version_major": 2,
       "version_minor": 0
      },
      "text/plain": [
       "AppLoader(apps=['mpc', 'demoYAMLv1', 'demoYAMLv2'], components={'mycontent': VBox(), 'app-output': Output()}, …"
      ]
     },
     "metadata": {},
     "output_type": "display_data"
    }
   ],
   "source": [
    "import os, sys; os.environ[\"MPC_PROJECT_PATH\"] = os.getcwd(); sys.path = [os.environ[\"MPC_PATH\"]] + sys.path; os.chdir(os.environ[\"MPC_PATH\"])\n",
    "import nvapp.app\n",
    "%matplotlib widget"
   ]
  }
 ],
 "metadata": {
  "kernelspec": {
   "display_name": "Python 3 (ipykernel)",
   "language": "python",
   "name": "python3"
  },
  "language_info": {
   "codemirror_mode": {
    "name": "ipython",
    "version": 3
   },
   "file_extension": ".py",
   "mimetype": "text/x-python",
   "name": "python",
   "nbconvert_exporter": "python",
   "pygments_lexer": "ipython3",
   "version": "3.8.13"
  }
 },
 "nbformat": 4,
 "nbformat_minor": 4
}
