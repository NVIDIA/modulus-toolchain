{
 "cells": [
  {
   "cell_type": "code",
   "execution_count": 1,
   "metadata": {
    "tags": []
   },
   "outputs": [
    {
     "data": {
      "text/html": [
       "<style>\n",
       ".jp-Cell {\n",
       "    margin:unset;\n",
       "    padding: unset;\n",
       "}\n",
       ".jp-Cell:not(.jp-mod-noOutputs) .jp-Cell-outputWrapper{\n",
       "    margin:unset;\n",
       "}\n",
       ".jp-Notebook {\n",
       "    margin:unset;\n",
       "    padding: unset;\n",
       "}\n",
       ".p-Widget {\n",
       "    width: 100%;\n",
       "}\n",
       "</style>"
      ],
      "text/plain": [
       "<IPython.core.display.HTML object>"
      ]
     },
     "metadata": {},
     "output_type": "display_data"
    },
    {
     "data": {
      "application/vnd.jupyter.widget-view+json": {
       "model_id": "f82b3f8332e9482bb2216920a10dc3f2",
       "version_major": 2,
       "version_minor": 0
      },
      "text/plain": [
       "AppLoader(apps=['mpc', 'demoYAMLv1', 'demoYAMLv2'], components={'mycontent': VBox(), 'app-output': Output()}, …"
      ]
     },
     "metadata": {},
     "output_type": "display_data"
    }
   ],
   "source": [
    "import os\n",
    "#os.path.append()\n",
    "os.environ[\"MPC_PROJECT_PATH\"] = \"/tests/examples/myproj\"\n",
    "\n",
    "import nvapp.app\n",
    "\n",
    "\n",
    "%matplotlib widget"
   ]
  },
  {
   "cell_type": "code",
   "execution_count": null,
   "metadata": {},
   "outputs": [],
   "source": []
  }
 ],
 "metadata": {
  "kernelspec": {
   "display_name": "Python 3 (ipykernel)",
   "language": "python",
   "name": "python3"
  },
  "language_info": {
   "codemirror_mode": {
    "name": "ipython",
    "version": 3
   },
   "file_extension": ".py",
   "mimetype": "text/x-python",
   "name": "python",
   "nbconvert_exporter": "python",
   "pygments_lexer": "ipython3",
   "version": "3.8.13"
  }
 },
 "nbformat": 4,
 "nbformat_minor": 4
}
